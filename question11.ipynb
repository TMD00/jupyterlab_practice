{
 "cells": [
  {
   "cell_type": "markdown",
   "id": "0c53b9d0-2461-485d-b390-90e05e2ae762",
   "metadata": {},
   "source": [
    "# Tao Xu\n",
    "# Notebook for assignment 7"
   ]
  },
  {
   "cell_type": "code",
   "execution_count": 8,
   "id": "5353d1cb-4d97-49f1-ba39-d9f4b0dc4f95",
   "metadata": {},
   "outputs": [
    {
     "name": "stdout",
     "output_type": "stream",
     "text": [
      "5.0\n"
     ]
    }
   ],
   "source": [
    "def compute_mean(data):\n",
    "    return sum(data) / len(data)\n",
    "\n",
    "mean = compute_mean([2, 4, 6, 8])\n",
    "print(mean)"
   ]
  },
  {
   "cell_type": "markdown",
   "id": "f48b2e0d-8854-4673-aed9-a55cef576b5e",
   "metadata": {},
   "source": [
    "#### computer_mean\n",
    "\n",
    "The 1st line is to define this function. Right after the keyword *def*, **computer_mean** is the function name, followed by the parameter *data*, in this case, the data includes **2, 4, 6, 8**.\n",
    "\n",
    "The 2nd line is the statement of this function, which is to calculate **mean** value for those *data*, (*sum of the total number*) / (*the total count of the numbers*).\n",
    "\n",
    "Finally, this function returns the **mean** of the selected *data*."
   ]
  },
  {
   "cell_type": "markdown",
   "id": "c62f6050-ae13-4dbf-963c-9f555902e784",
   "metadata": {},
   "source": [
    "The mean of a list of numbers can also be calculated using the following formula:\n",
    "\n",
    "$$\n",
    "\\bar{x}=\\frac{x_1 + x_2 +... +x_n}{n} = \\frac{1}{n}\\Big(\\sum_{i=1}^n x_i\\Big)\n",
    "$$"
   ]
  }
 ],
 "metadata": {
  "kernelspec": {
   "display_name": "Python 3 (ipykernel)",
   "language": "python",
   "name": "python3"
  },
  "language_info": {
   "codemirror_mode": {
    "name": "ipython",
    "version": 3
   },
   "file_extension": ".py",
   "mimetype": "text/x-python",
   "name": "python",
   "nbconvert_exporter": "python",
   "pygments_lexer": "ipython3",
   "version": "3.10.10"
  }
 },
 "nbformat": 4,
 "nbformat_minor": 5
}
